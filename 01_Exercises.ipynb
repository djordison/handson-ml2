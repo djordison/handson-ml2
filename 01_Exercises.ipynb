{
 "cells": [
  {
   "cell_type": "markdown",
   "id": "135ab76c",
   "metadata": {},
   "source": [
    "# 01_Exercises\n"
   ]
  },
  {
   "cell_type": "markdown",
   "id": "2bd7de90",
   "metadata": {},
   "source": [
    "1. How would you define machine learning:\n",
    "    Use of computers to solve problems without direct programming\n",
    "    \n",
    "2. Four types of problems where it shines:\n",
    "    Anomaly (fraud) detection, speech and vision analysis, regression analysis, clustering\n",
    "    \n",
    "3. Labeled training set:\n",
    "    Portion of the data which is labelled by a human with a category or target value.\n",
    "\n",
    "4. What are hte two most common supervised tasks:\n",
    "    Regression, classification\n",
    "\n",
    "5. Four common unsupervised tasks:\n",
    "    Anomaly detection, clustering, dimensionality reduction, association analysis\n",
    "\n",
    "6. What type of Machine learning algorithm would you use to allow a robot to walk in various unknown terrain?\n",
    "    Reinforcement learning\n",
    "\n",
    "7. What type of algorithm would you use to segment customers into multiple groups:\n",
    "    Clustering\n",
    "\n",
    "8. Would you frame the problem of spam detection as a supervised learning problem, or unsupervised?\n",
    "    Semi-supervised. Supervision for initial set, then clustering.\n",
    "\n",
    "9. What is an online learning system:\n",
    "    One that continues to learn based on incoming chunks of data\n",
    "\n",
    "10. With is out of core learning?\n",
    "    Offline learning done on massive data sets done in chunks.\n",
    "\n",
    "11. What type of algorithm relies on a similarity measure you make predictions?\n",
    "    Clustering\n",
    "\n",
    "12. What is the difference between a model parameter and learning algorithm hyperparameter?\n",
    "    Model parameter defines an aspect of the (such as a decision boundary), hyperparameter is used for tuning the responce of a model to data.\n",
    "\n",
    "13. What do model based larning algorithms search for? What is the most common strategy they use to succeed? How do they make predictions?\n",
    "    A prediction value which has a low cost function. Parameter tuning. They make predictions by estimating an outcome based on a mathemetical value.\n",
    "\n",
    "14. What are four of the main challenges:\n",
    "    Insufficient data. Non representative training data. Poor quality data (noisy, or irrelevent). Overfitting/underfitting.\n",
    "\n",
    "15. If a model performs great on training data but poorly on new instances, what is happening? What are three possible solutions?\n",
    "    Poor generalization. Data is not representative, the model is under/overfit, the training data is too small.\n",
    "\n",
    "16. What is a test set and what is it used for?\n",
    "    The data which is not used to train the model, it is used to test accuracy.\n",
    "\n",
    "17. What is the purpose of a validation set?\n",
    "    Hyperparemeter tuning, it is split off from the test set.\n",
    "\n",
    "18. What is the train-dev set, when do you need it, and how do you use it?\n",
    "    A portion of the training set, which is used to test a model trained on the training set. This checks to see if the model is overfit. The model is trained on the training set, then tested on the train-dev set. This is different from the validation set which is used to test the hyperparameter tuning rather than overfitting. Most useful when the training data will be differnt from the production data (validation and test sets).\n",
    "\n",
    "19. What can go wrong if you tune hyperparameters using the test set.\n",
    "    Overfitting of model."
   ]
  },
  {
   "cell_type": "code",
   "execution_count": null,
   "id": "ee6d9216",
   "metadata": {},
   "outputs": [],
   "source": []
  }
 ],
 "metadata": {
  "kernelspec": {
   "display_name": "Python 3 (ipykernel)",
   "language": "python",
   "name": "python3"
  },
  "language_info": {
   "codemirror_mode": {
    "name": "ipython",
    "version": 3
   },
   "file_extension": ".py",
   "mimetype": "text/x-python",
   "name": "python",
   "nbconvert_exporter": "python",
   "pygments_lexer": "ipython3",
   "version": "3.9.2"
  }
 },
 "nbformat": 4,
 "nbformat_minor": 5
}
